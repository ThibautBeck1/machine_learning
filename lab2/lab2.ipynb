{
 "cells": [
  {
   "cell_type": "markdown",
   "metadata": {},
   "source": [
    "# Machine Learning: Lab 2\n",
    "## Feature engineering\n",
    "TA: Bryan Coulier (bryan.coulier@kuleuven.be)\n",
    "\n",
    "features aanpassen aan de hand van wat je wil veranderen"
   ]
  },
  {
   "cell_type": "code",
   "execution_count": 459,
   "metadata": {},
   "outputs": [],
   "source": [
    "# Import necessary libraries\n",
    "import numpy as np\n",
    "import matplotlib.pyplot as plt\n",
    "from sklearn.feature_selection import VarianceThreshold\n",
    "import pandas as pd\n",
    "from sklearn.preprocessing import StandardScaler\n",
    "from sklearn.datasets import load_breast_cancer, load_diabetes\n",
    "from sklearn.feature_selection import SelectPercentile, f_classif, VarianceThreshold\n",
    "from sklearn.model_selection import train_test_split\n",
    "from sklearn.metrics import mean_squared_error\n",
    "from sklearn.linear_model import LinearRegression\n",
    "from sklearn.feature_selection import RFE\n",
    "from sklearn.linear_model import Lasso\n"
   ]
  },
  {
   "cell_type": "markdown",
   "metadata": {},
   "source": [
    "### Remove Constant Features\n",
    "Remove all constant features from the random matrix with Scikit-learn and print the shape of the matrix"
   ]
  },
  {
   "cell_type": "markdown",
   "metadata": {},
   "source": [
    "If Variance Threshold = 0 (Remove Constant Features )\n",
    "If Variance Threshold > 0 (Remove Quasi-Constant Features )\n",
    "http://medium.com/nerd-for-tech/removing-constant-variables-feature-selection-463e2d6a30d9\n",
    "\n",
    "fit_transform(X) in VarianceThreshold berekent eerst de variantie van elke kolom (fit) en verwijdert vervolgens de kolommen met te lage variantie (transform). Hierdoor blijven alleen de relevante features over.\n"
   ]
  },
  {
   "cell_type": "code",
   "execution_count": 460,
   "metadata": {},
   "outputs": [
    {
     "name": "stdout",
     "output_type": "stream",
     "text": [
      "initiele data\n",
      "[[ 37 100  72 100  75 100  79  64  16   1]\n",
      " [ 76 100   6 100  50 100  18  84  11  28]\n",
      " [ 29 100  50 100  87 100  94  96  86  13]\n",
      " [  9 100  63 100  22 100   1   0  60  81]\n",
      " [  8 100  13 100  72 100  71   3  70  21]]\n",
      "\n",
      "Data na verwijderen van features met 0 variance\n",
      "[[37 72 75 79 64 16  1]\n",
      " [76  6 50 18 84 11 28]\n",
      " [29 50 87 94 96 86 13]\n",
      " [ 9 63 22  1  0 60 81]\n",
      " [ 8 13 72 71  3 70 21]]\n"
     ]
    }
   ],
   "source": [
    "np.random.seed(1)\n",
    "X_rand = np.random.randint(0, 100, (50, 10))\n",
    "X_rand[:, [1,3,5]] = 100\n",
    "X_rand[:5, :]\n",
    "print(\"initiele data\")\n",
    "print(X_rand[:5, :])\n",
    "X_reduced = VarianceThreshold(threshold=0).fit_transform(X_rand)\n",
    "print(\"\\nData na verwijderen van features met 0 variance\")\n",
    "print(X_reduced[:5, :])\n"
   ]
  },
  {
   "cell_type": "markdown",
   "metadata": {},
   "source": [
    "uitpinten van de vorm van de originele dataset en van de nieuewe"
   ]
  },
  {
   "cell_type": "code",
   "execution_count": 461,
   "metadata": {},
   "outputs": [
    {
     "name": "stdout",
     "output_type": "stream",
     "text": [
      "Vorm van de originele dataset: (50, 10)\n",
      "Vorm van de nieuwe dataset: (50, 7)\n"
     ]
    }
   ],
   "source": [
    "print(\"Vorm van de originele dataset:\", X_rand.shape)\n",
    "print(\"Vorm van de nieuwe dataset:\", X_reduced.shape)"
   ]
  },
  {
   "cell_type": "markdown",
   "metadata": {},
   "source": [
    "### Remove Quasi-Constant Features\n",
    "Scale the features in the Housing.csv data and remove all features with a variance < 0.1, print the removed features"
   ]
  },
  {
   "cell_type": "markdown",
   "metadata": {},
   "source": [
    "inladen van de dataset"
   ]
  },
  {
   "cell_type": "code",
   "execution_count": 462,
   "metadata": {},
   "outputs": [],
   "source": [
    "housing_data = pd.read_csv('Housing.csv')"
   ]
  },
  {
   "cell_type": "markdown",
   "metadata": {},
   "source": [
    "uitprinten van de vorm en de head van de initiele dataset "
   ]
  },
  {
   "cell_type": "code",
   "execution_count": null,
   "metadata": {
    "vscode": {
     "languageId": "swift"
    }
   },
   "outputs": [],
   "source": [
    "print(\"Vorm van de initiële dataset:\", housing_data.shape)\n",
    "print(\"Eerste paar rijen van de initiële dataset:\")\n",
    "print(housing_data.head())"
   ]
  },
  {
   "cell_type": "markdown",
   "metadata": {},
   "source": [
    "Opschalen van de features \n",
    "\n",
    "de standaardscore wordt berekend aan de hand van :\n",
    "'''\n",
    "z = (x - u) / s\n",
    "where u is the mean of the training samples or zero if with_mean=False, and s is the standard deviation of the training samples or one if with_std=False.'''"
   ]
  },
  {
   "cell_type": "code",
   "execution_count": 463,
   "metadata": {},
   "outputs": [],
   "source": [
    "scaler = StandardScaler(with_std=False)\n",
    "scaled_data = scaler.fit_transform(housing_data)"
   ]
  },
  {
   "cell_type": "markdown",
   "metadata": {},
   "source": [
    "Vergelijking tussen de normale data en de geschaalde data "
   ]
  },
  {
   "cell_type": "code",
   "execution_count": 464,
   "metadata": {},
   "outputs": [
    {
     "name": "stdout",
     "output_type": "stream",
     "text": [
      "   index     crim    zn  indus  chas    nox     rm   age     dis  rad  tax  \\\n",
      "0      1  0.00632  18.0   2.31     0  0.538  6.575  65.2  4.0900    1  296   \n",
      "1      2  0.02731   0.0   7.07     0  0.469  6.421  78.9  4.9671    2  242   \n",
      "2      3  0.02729   0.0   7.07     0  0.469  7.185  61.1  4.9671    2  242   \n",
      "3      4  0.03237   0.0   2.18     0  0.458  6.998  45.8  6.0622    3  222   \n",
      "4      5  0.06905   0.0   2.18     0  0.458  7.147  54.2  6.0622    3  222   \n",
      "\n",
      "   ptratio   black  lstat  medv  \n",
      "0     15.3  396.90   4.98  24.0  \n",
      "1     17.8  396.90   9.14  21.6  \n",
      "2     17.8  392.83   4.03  34.7  \n",
      "3     18.7  394.63   2.94  33.4  \n",
      "4     18.7  396.90   5.33  36.2  \n",
      "-----------------\n",
      "   index      crim         zn     indus     chas       nox        rm  \\\n",
      "0 -252.5 -3.607204   6.636364 -8.826779 -0.06917 -0.016695  0.290366   \n",
      "1 -251.5 -3.586214 -11.363636 -4.066779 -0.06917 -0.085695  0.136366   \n",
      "2 -250.5 -3.586234 -11.363636 -4.066779 -0.06917 -0.085695  0.900366   \n",
      "3 -249.5 -3.581154 -11.363636 -8.956779 -0.06917 -0.096695  0.713366   \n",
      "4 -248.5 -3.544474 -11.363636 -8.956779 -0.06917 -0.096695  0.862366   \n",
      "\n",
      "         age       dis       rad         tax   ptratio      black     lstat  \\\n",
      "0  -3.374901  0.294957 -8.549407 -112.237154 -3.155534  40.225968 -7.673063   \n",
      "1  10.325099  1.172057 -7.549407 -166.237154 -0.655534  40.225968 -3.513063   \n",
      "2  -7.474901  1.172057 -7.549407 -166.237154 -0.655534  36.155968 -8.623063   \n",
      "3 -22.774901  2.267157 -6.549407 -186.237154  0.244466  37.955968 -9.713063   \n",
      "4 -14.374901  2.267157 -6.549407 -186.237154  0.244466  40.225968 -7.323063   \n",
      "\n",
      "        medv  \n",
      "0   1.467194  \n",
      "1  -0.932806  \n",
      "2  12.167194  \n",
      "3  10.867194  \n",
      "4  13.667194  \n"
     ]
    }
   ],
   "source": [
    "print(housing_data.head())\n",
    "print(\"-----------------\")\n",
    "print(pd.DataFrame(scaled_data, columns=housing_data.columns).head())"
   ]
  },
  {
   "cell_type": "code",
   "execution_count": 465,
   "metadata": {},
   "outputs": [
    {
     "name": "stdout",
     "output_type": "stream",
     "text": [
      "Removed features: Index(['chas', 'nox'], dtype='object')\n"
     ]
    }
   ],
   "source": [
    "selector = VarianceThreshold(threshold=0.1)\n",
    "reduced_data = selector.fit_transform(scaled_data)\n",
    "\n",
    "# ~ staat voor not \n",
    "removed_features = housing_data.columns[~selector.get_support()]  \n",
    "\n",
    "print(\"Removed features:\", removed_features)"
   ]
  },
  {
   "cell_type": "markdown",
   "metadata": {},
   "source": [
    "### Univariate Feature Selection\n",
    "Univariate feature selection is a simple technique for reducing the dimensionality of the feature space by selecting only the most important features.\n",
    "\n",
    "Read in breast cancer toydataset and split into features and target"
   ]
  },
  {
   "cell_type": "code",
   "execution_count": 466,
   "metadata": {},
   "outputs": [
    {
     "name": "stdout",
     "output_type": "stream",
     "text": [
      "[0 0 0 0 0 0 0 0 0 0 0 0 0 0 0 0 0 0 0 1 1 1 0 0 0 0 0 0 0 0 0 0 0 0 0 0 0\n",
      " 1 0 0 0 0 0 0 0 0 1 0 1 1 1 1 1 0 0 1 0 0 1 1 1 1 0 1 0 0 1 1 1 1 0 1 0 0\n",
      " 1 0 1 0 0 1 1 1 0 0 1 0 0 0 1 1 1 0 1 1 0 0 1 1 1 0 0 1 1 1 1 0 1 1 0 1 1\n",
      " 1 1 1 1 1 1 0 0 0 1 0 0 1 1 1 0 0 1 0 1 0 0 1 0 0 1 1 0 1 1 0 1 1 1 1 0 1\n",
      " 1 1 1 1 1 1 1 1 0 1 1 1 1 0 0 1 0 1 1 0 0 1 1 0 0 1 1 1 1 0 1 1 0 0 0 1 0\n",
      " 1 0 1 1 1 0 1 1 0 0 1 0 0 0 0 1 0 0 0 1 0 1 0 1 1 0 1 0 0 0 0 1 1 0 0 1 1\n",
      " 1 0 1 1 1 1 1 0 0 1 1 0 1 1 0 0 1 0 1 1 1 1 0 1 1 1 1 1 0 1 0 0 0 0 0 0 0\n",
      " 0 0 0 0 0 0 0 1 1 1 1 1 1 0 1 0 1 1 0 1 1 0 1 0 0 1 1 1 1 1 1 1 1 1 1 1 1\n",
      " 1 0 1 1 0 1 0 1 1 1 1 1 1 1 1 1 1 1 1 1 1 0 1 1 1 0 1 0 1 1 1 1 0 0 0 1 1\n",
      " 1 1 0 1 0 1 0 1 1 1 0 1 1 1 1 1 1 1 0 0 0 1 1 1 1 1 1 1 1 1 1 1 0 0 1 0 0\n",
      " 0 1 0 0 1 1 1 1 1 0 1 1 1 1 1 0 1 1 1 0 1 1 0 0 1 1 1 1 1 1 0 1 1 1 1 1 1\n",
      " 1 0 1 1 1 1 1 0 1 1 0 1 1 1 1 1 1 1 1 1 1 1 1 0 1 0 0 1 0 1 1 1 1 1 0 1 1\n",
      " 0 1 0 1 1 0 1 0 1 1 1 1 1 1 1 1 0 0 1 1 1 1 1 1 0 1 1 1 1 1 1 1 1 1 1 0 1\n",
      " 1 1 1 1 1 1 0 1 0 1 1 0 1 1 1 1 1 0 0 1 0 1 0 1 1 1 1 1 0 1 1 0 1 0 1 0 0\n",
      " 1 1 1 0 1 1 1 1 1 1 1 1 1 1 1 0 1 0 0 1 1 1 1 1 1 1 1 1 1 1 1 1 1 1 1 1 1\n",
      " 1 1 1 1 1 1 1 0 0 0 0 0 0 1]\n",
      "[[1.799e+01 1.038e+01 1.228e+02 ... 2.654e-01 4.601e-01 1.189e-01]\n",
      " [2.057e+01 1.777e+01 1.329e+02 ... 1.860e-01 2.750e-01 8.902e-02]\n",
      " [1.969e+01 2.125e+01 1.300e+02 ... 2.430e-01 3.613e-01 8.758e-02]\n",
      " ...\n",
      " [1.660e+01 2.808e+01 1.083e+02 ... 1.418e-01 2.218e-01 7.820e-02]\n",
      " [2.060e+01 2.933e+01 1.401e+02 ... 2.650e-01 4.087e-01 1.240e-01]\n",
      " [7.760e+00 2.454e+01 4.792e+01 ... 0.000e+00 2.871e-01 7.039e-02]]\n"
     ]
    }
   ],
   "source": [
    "brcn = load_breast_cancer()\n",
    "\n",
    "#opsplitsen in een target en in data \n",
    "target = brcn.target\n",
    "features = brcn.data\n",
    "\n",
    "print(target)\n",
    "print (features)"
   ]
  },
  {
   "cell_type": "markdown",
   "metadata": {},
   "source": [
    "Select the 3 features with the strongest relationship to the target"
   ]
  },
  {
   "cell_type": "code",
   "execution_count": 467,
   "metadata": {},
   "outputs": [
    {
     "name": "stdout",
     "output_type": "stream",
     "text": [
      "Index(['worst concave points', 'worst perimeter', 'mean concave points'], dtype='object')\n"
     ]
    }
   ],
   "source": [
    "df = pd.DataFrame(features, columns=brcn.feature_names)\n",
    "df[\"target\"] = brcn.target\n",
    "correlations = df.corr()[\"target\"].abs().sort_values(ascending=False)\n",
    "\n",
    "# Selecteer de top 3 features\n",
    "top_features = correlations.index[1:4]\n",
    "print(top_features)"
   ]
  },
  {
   "cell_type": "markdown",
   "metadata": {},
   "source": [
    "Select features based on top 30 percentile"
   ]
  },
  {
   "cell_type": "code",
   "execution_count": 468,
   "metadata": {},
   "outputs": [],
   "source": [
    "# selecteer de top 30% van de features\n",
    "selector = SelectPercentile(score_func=f_classif, percentile=30)\n",
    "selector.fit(features, target)\n",
    "\n",
    "# krijg de geselecteerde features en hun scores\n",
    "selected_features_percentile = brcn.feature_names[selector.get_support()]\n",
    "feature_scores = selector.scores_[selector.get_support()]"
   ]
  },
  {
   "cell_type": "markdown",
   "metadata": {},
   "source": [
    "Print out the names of the selected features that where selected based on the percentile"
   ]
  },
  {
   "cell_type": "code",
   "execution_count": 469,
   "metadata": {},
   "outputs": [
    {
     "name": "stdout",
     "output_type": "stream",
     "text": [
      "Geselecteerde features op basis van de top 30 percentiel: ['mean radius' 'mean perimeter' 'mean area' 'mean concavity'\n",
      " 'mean concave points' 'worst radius' 'worst perimeter' 'worst area'\n",
      " 'worst concave points']\n",
      "Feature scores: [646.98102098 697.23527248 573.06074657 533.7931262  861.67602001\n",
      " 860.78170699 897.94421886 661.60020553 964.38539345]\n"
     ]
    }
   ],
   "source": [
    "print(\"Geselecteerde features op basis van de top 30 percentiel:\", selected_features_percentile)\n",
    "print(\"Feature scores:\", feature_scores)"
   ]
  },
  {
   "cell_type": "markdown",
   "metadata": {},
   "source": [
    "Read in toydataset diabetes and split into features and target"
   ]
  },
  {
   "cell_type": "markdown",
   "metadata": {},
   "source": [
    "inlezen dataset "
   ]
  },
  {
   "cell_type": "code",
   "execution_count": 470,
   "metadata": {},
   "outputs": [],
   "source": [
    "diabetes = load_diabetes()"
   ]
  },
  {
   "cell_type": "markdown",
   "metadata": {},
   "source": [
    "Dataset splitsen in features en target"
   ]
  },
  {
   "cell_type": "code",
   "execution_count": 471,
   "metadata": {},
   "outputs": [],
   "source": [
    "diabetes_features = diabetes.data\n",
    "diabetes_target = diabetes.target"
   ]
  },
  {
   "cell_type": "markdown",
   "metadata": {},
   "source": [
    "Uitprinten van de dataset"
   ]
  },
  {
   "cell_type": "code",
   "execution_count": 472,
   "metadata": {},
   "outputs": [
    {
     "name": "stdout",
     "output_type": "stream",
     "text": [
      "['age', 'sex', 'bmi', 'bp', 's1', 's2', 's3', 's4', 's5', 's6']\n",
      "-----------------\n",
      "[[ 0.03807591  0.05068012  0.06169621 ... -0.00259226  0.01990749\n",
      "  -0.01764613]\n",
      " [-0.00188202 -0.04464164 -0.05147406 ... -0.03949338 -0.06833155\n",
      "  -0.09220405]\n",
      " [ 0.08529891  0.05068012  0.04445121 ... -0.00259226  0.00286131\n",
      "  -0.02593034]\n",
      " ...\n",
      " [ 0.04170844  0.05068012 -0.01590626 ... -0.01107952 -0.04688253\n",
      "   0.01549073]\n",
      " [-0.04547248 -0.04464164  0.03906215 ...  0.02655962  0.04452873\n",
      "  -0.02593034]\n",
      " [-0.04547248 -0.04464164 -0.0730303  ... -0.03949338 -0.00422151\n",
      "   0.00306441]]\n",
      "-----------------\n",
      "[151.  75. 141. 206. 135.  97. 138.  63. 110. 310. 101.  69. 179. 185.\n",
      " 118. 171. 166. 144.  97. 168.  68.  49.  68. 245. 184. 202. 137.  85.\n",
      " 131. 283. 129.  59. 341.  87.  65. 102. 265. 276. 252.  90. 100.  55.\n",
      "  61.  92. 259.  53. 190. 142.  75. 142. 155. 225.  59. 104. 182. 128.\n",
      "  52.  37. 170. 170.  61. 144.  52. 128.  71. 163. 150.  97. 160. 178.\n",
      "  48. 270. 202. 111.  85.  42. 170. 200. 252. 113. 143.  51.  52. 210.\n",
      "  65. 141.  55. 134.  42. 111.  98. 164.  48.  96.  90. 162. 150. 279.\n",
      "  92.  83. 128. 102. 302. 198.  95.  53. 134. 144. 232.  81. 104.  59.\n",
      " 246. 297. 258. 229. 275. 281. 179. 200. 200. 173. 180.  84. 121. 161.\n",
      "  99. 109. 115. 268. 274. 158. 107.  83. 103. 272.  85. 280. 336. 281.\n",
      " 118. 317. 235.  60. 174. 259. 178. 128.  96. 126. 288.  88. 292.  71.\n",
      " 197. 186.  25.  84.  96. 195.  53. 217. 172. 131. 214.  59.  70. 220.\n",
      " 268. 152.  47.  74. 295. 101. 151. 127. 237. 225.  81. 151. 107.  64.\n",
      " 138. 185. 265. 101. 137. 143. 141.  79. 292. 178.  91. 116.  86. 122.\n",
      "  72. 129. 142.  90. 158.  39. 196. 222. 277.  99. 196. 202. 155.  77.\n",
      " 191.  70.  73.  49.  65. 263. 248. 296. 214. 185.  78.  93. 252. 150.\n",
      "  77. 208.  77. 108. 160.  53. 220. 154. 259.  90. 246. 124.  67.  72.\n",
      " 257. 262. 275. 177.  71.  47. 187. 125.  78.  51. 258. 215. 303. 243.\n",
      "  91. 150. 310. 153. 346.  63.  89.  50.  39. 103. 308. 116. 145.  74.\n",
      "  45. 115. 264.  87. 202. 127. 182. 241.  66.  94. 283.  64. 102. 200.\n",
      " 265.  94. 230. 181. 156. 233.  60. 219.  80.  68. 332. 248.  84. 200.\n",
      "  55.  85.  89.  31. 129.  83. 275.  65. 198. 236. 253. 124.  44. 172.\n",
      " 114. 142. 109. 180. 144. 163. 147.  97. 220. 190. 109. 191. 122. 230.\n",
      " 242. 248. 249. 192. 131. 237.  78. 135. 244. 199. 270. 164.  72.  96.\n",
      " 306.  91. 214.  95. 216. 263. 178. 113. 200. 139. 139.  88. 148.  88.\n",
      " 243.  71.  77. 109. 272.  60.  54. 221.  90. 311. 281. 182. 321.  58.\n",
      " 262. 206. 233. 242. 123. 167.  63. 197.  71. 168. 140. 217. 121. 235.\n",
      " 245.  40.  52. 104. 132.  88.  69. 219.  72. 201. 110.  51. 277.  63.\n",
      " 118.  69. 273. 258.  43. 198. 242. 232. 175.  93. 168. 275. 293. 281.\n",
      "  72. 140. 189. 181. 209. 136. 261. 113. 131. 174. 257.  55.  84.  42.\n",
      " 146. 212. 233.  91. 111. 152. 120.  67. 310.  94. 183.  66. 173.  72.\n",
      "  49.  64.  48. 178. 104. 132. 220.  57.]\n"
     ]
    }
   ],
   "source": [
    "print(diabetes.feature_names)\n",
    "print(\"-----------------\")\n",
    "print(diabetes_features)\n",
    "print(\"-----------------\")\n",
    "print(diabetes_target)"
   ]
  },
  {
   "cell_type": "markdown",
   "metadata": {},
   "source": [
    "Select features based on top 30 percentile and print out these features"
   ]
  },
  {
   "cell_type": "markdown",
   "metadata": {},
   "source": [
    "# Laad de diabetes dataset"
   ]
  },
  {
   "cell_type": "code",
   "execution_count": 473,
   "metadata": {},
   "outputs": [],
   "source": [
    "diabetes = load_diabetes()"
   ]
  },
  {
   "cell_type": "markdown",
   "metadata": {},
   "source": [
    "# Splits de dataset in features en target"
   ]
  },
  {
   "cell_type": "code",
   "execution_count": 474,
   "metadata": {},
   "outputs": [],
   "source": [
    "\n",
    "diabetes_features = diabetes.data\n",
    "diabetes_target = diabetes.target\n"
   ]
  },
  {
   "cell_type": "markdown",
   "metadata": {},
   "source": [
    "# Selecteer de top 30% van de features"
   ]
  },
  {
   "cell_type": "code",
   "execution_count": 475,
   "metadata": {},
   "outputs": [],
   "source": [
    "selector = SelectPercentile(score_func=f_classif, percentile=30)\n",
    "X_new30 = selector.fit(diabetes_features, diabetes_target)\n",
    "selected_features = selector.get_support(indices=True)\n",
    "features_scores = selector.scores_\n",
    "selected_feature_names = [diabetes.feature_names[i] for i in selected_features]"
   ]
  },
  {
   "cell_type": "markdown",
   "metadata": {},
   "source": [
    "# Print de geselecteerde features en hun scores"
   ]
  },
  {
   "cell_type": "code",
   "execution_count": 476,
   "metadata": {},
   "outputs": [
    {
     "name": "stdout",
     "output_type": "stream",
     "text": [
      "Geselecteerde features: ['bmi', 's3', 's5']\n",
      "Feature scores: [2.0316784  1.61974117 2.05387997]\n"
     ]
    }
   ],
   "source": [
    "print(\"Geselecteerde features:\", selected_feature_names)\n",
    "print(\"Feature scores:\", features_scores[selected_features])"
   ]
  },
  {
   "cell_type": "markdown",
   "metadata": {},
   "source": [
    "## Problem 1: Fruits feature engineering\n",
    "Given a dataset containing information about the size and color of fruits, the task is to create new (more useful) features from the existing ones.\n",
    "\n",
    "### Dataset\n",
    "The dataset is a pandas dataframe with two columns:\n",
    "\n",
    "- \"Size\": a continuous variable representing the size of the fruit.\n",
    "- \"Color\": a categorical variable representing the color of the fruit.\n",
    "\n",
    "### Task\n",
    "1) Create a new feature \"Size_Category\" by grouping the \"Size\" column into 3 categories: Small, Medium, and Large. The criteria for grouping the values should be as follows:\n",
    "    - Small: Size < 100\n",
    "    - Medium: 100 <= Size < 200\n",
    "    - Large: Size >= 200\n",
    "2) Create a new feature \"Color_Encoded\" by encoding the \"Color\" column using one-hot encoding.\n",
    "3) Print the first 5 rows of the dataframe to check if the new features have been created successfully.\n",
    "\n",
    "Example output:\n",
    "|Index  | Size  | Color   | Size_Category | Color_Encoded_Red | Color_Encoded_Green | Color_Encoded_Yellow |\n",
    "|-------|-------|---------|---------------|------------------|------------------- |-------------------- |\n",
    "| 0     |150    | Green   | Medium           | 0.0              | 1.0                | 0.0                 |\n",
    "| 1     |250    | Red     | Large           | 1.0              | 0.0                | 0.0                 |\n",
    "| 2     |180    | Yellow  | Medium           | 0.0              | 0.0                | 1.0                 |\n",
    "| 3     |100    | Green   | Medium           | 0.0              | 1.0                | 0.0                 |\n",
    "| 4     |200    | Red     | Large           | 1.0              | 0.0                | 0.0                 |\n",
    "\n",
    "\n",
    "\n",
    "Note: use the following code to generate a sample dataframe for the task:\n",
    "```Python\n",
    "import pandas as pd\n",
    "import numpy as np\n",
    "\n",
    "np.random.seed(0)\n",
    "data = {\"Size\": np.random.randint(50, 300, size=(100,)),\"Color\": np.random.choice([\"Red\", \"Green\", \"Yellow\"], size=(100,))}\n",
    "df = pd.DataFrame(data)\n",
    "```"
   ]
  },
  {
   "cell_type": "code",
   "execution_count": 477,
   "metadata": {},
   "outputs": [
    {
     "data": {
      "text/html": [
       "<div>\n",
       "<style scoped>\n",
       "    .dataframe tbody tr th:only-of-type {\n",
       "        vertical-align: middle;\n",
       "    }\n",
       "\n",
       "    .dataframe tbody tr th {\n",
       "        vertical-align: top;\n",
       "    }\n",
       "\n",
       "    .dataframe thead th {\n",
       "        text-align: right;\n",
       "    }\n",
       "</style>\n",
       "<table border=\"1\" class=\"dataframe\">\n",
       "  <thead>\n",
       "    <tr style=\"text-align: right;\">\n",
       "      <th></th>\n",
       "      <th>Size</th>\n",
       "      <th>Color</th>\n",
       "    </tr>\n",
       "  </thead>\n",
       "  <tbody>\n",
       "    <tr>\n",
       "      <th>0</th>\n",
       "      <td>222</td>\n",
       "      <td>Red</td>\n",
       "    </tr>\n",
       "    <tr>\n",
       "      <th>1</th>\n",
       "      <td>97</td>\n",
       "      <td>Yellow</td>\n",
       "    </tr>\n",
       "    <tr>\n",
       "      <th>2</th>\n",
       "      <td>167</td>\n",
       "      <td>Red</td>\n",
       "    </tr>\n",
       "    <tr>\n",
       "      <th>3</th>\n",
       "      <td>242</td>\n",
       "      <td>Red</td>\n",
       "    </tr>\n",
       "    <tr>\n",
       "      <th>4</th>\n",
       "      <td>117</td>\n",
       "      <td>Red</td>\n",
       "    </tr>\n",
       "  </tbody>\n",
       "</table>\n",
       "</div>"
      ],
      "text/plain": [
       "   Size   Color\n",
       "0   222     Red\n",
       "1    97  Yellow\n",
       "2   167     Red\n",
       "3   242     Red\n",
       "4   117     Red"
      ]
     },
     "execution_count": 477,
     "metadata": {},
     "output_type": "execute_result"
    }
   ],
   "source": [
    "import pandas as pd\n",
    "import numpy as np\n",
    "\n",
    "np.random.seed(0)\n",
    "data = {\"Size\": np.random.randint(50, 300, size=(100,)),\"Color\": np.random.choice([\"Red\", \"Green\", \"Yellow\"], size=(100,))}\n",
    "df = pd.DataFrame(data)\n",
    "df.head()"
   ]
  },
  {
   "cell_type": "markdown",
   "metadata": {},
   "source": [
    "## Er zijn 3 categorieen: Small, Medium en Large , het opslaan van de data kan op 2 manieren: one hot encoding of binning"
   ]
  },
  {
   "cell_type": "code",
   "execution_count": 478,
   "metadata": {},
   "outputs": [],
   "source": [
    "df2 = df \n",
    "df['Size_Category'] = pd.cut(df['Size'], bins=[-float('inf'), 100, 200, float('inf')], labels=['Small', 'Medium', 'Large'])\n",
    "\n",
    "df2['Small'] = df2['Size'] < 100\n",
    "df2['Medium'] = (df2['Size'] >= 100) & (df2['Size'] < 200)\n",
    "df2['Large'] = df2['Size'] >= 200"
   ]
  },
  {
   "cell_type": "markdown",
   "metadata": {},
   "source": [
    "uitprinten van de dataset"
   ]
  },
  {
   "cell_type": "code",
   "execution_count": 479,
   "metadata": {},
   "outputs": [
    {
     "data": {
      "text/html": [
       "<div>\n",
       "<style scoped>\n",
       "    .dataframe tbody tr th:only-of-type {\n",
       "        vertical-align: middle;\n",
       "    }\n",
       "\n",
       "    .dataframe tbody tr th {\n",
       "        vertical-align: top;\n",
       "    }\n",
       "\n",
       "    .dataframe thead th {\n",
       "        text-align: right;\n",
       "    }\n",
       "</style>\n",
       "<table border=\"1\" class=\"dataframe\">\n",
       "  <thead>\n",
       "    <tr style=\"text-align: right;\">\n",
       "      <th></th>\n",
       "      <th>Size</th>\n",
       "      <th>Color</th>\n",
       "      <th>Size_Category</th>\n",
       "      <th>Small</th>\n",
       "      <th>Medium</th>\n",
       "      <th>Large</th>\n",
       "    </tr>\n",
       "  </thead>\n",
       "  <tbody>\n",
       "    <tr>\n",
       "      <th>0</th>\n",
       "      <td>222</td>\n",
       "      <td>Red</td>\n",
       "      <td>Large</td>\n",
       "      <td>False</td>\n",
       "      <td>False</td>\n",
       "      <td>True</td>\n",
       "    </tr>\n",
       "    <tr>\n",
       "      <th>1</th>\n",
       "      <td>97</td>\n",
       "      <td>Yellow</td>\n",
       "      <td>Small</td>\n",
       "      <td>True</td>\n",
       "      <td>False</td>\n",
       "      <td>False</td>\n",
       "    </tr>\n",
       "    <tr>\n",
       "      <th>2</th>\n",
       "      <td>167</td>\n",
       "      <td>Red</td>\n",
       "      <td>Medium</td>\n",
       "      <td>False</td>\n",
       "      <td>True</td>\n",
       "      <td>False</td>\n",
       "    </tr>\n",
       "    <tr>\n",
       "      <th>3</th>\n",
       "      <td>242</td>\n",
       "      <td>Red</td>\n",
       "      <td>Large</td>\n",
       "      <td>False</td>\n",
       "      <td>False</td>\n",
       "      <td>True</td>\n",
       "    </tr>\n",
       "    <tr>\n",
       "      <th>4</th>\n",
       "      <td>117</td>\n",
       "      <td>Red</td>\n",
       "      <td>Medium</td>\n",
       "      <td>False</td>\n",
       "      <td>True</td>\n",
       "      <td>False</td>\n",
       "    </tr>\n",
       "  </tbody>\n",
       "</table>\n",
       "</div>"
      ],
      "text/plain": [
       "   Size   Color Size_Category  Small  Medium  Large\n",
       "0   222     Red         Large  False   False   True\n",
       "1    97  Yellow         Small   True   False  False\n",
       "2   167     Red        Medium  False    True  False\n",
       "3   242     Red         Large  False   False   True\n",
       "4   117     Red        Medium  False    True  False"
      ]
     },
     "execution_count": 479,
     "metadata": {},
     "output_type": "execute_result"
    }
   ],
   "source": [
    "df.head()"
   ]
  },
  {
   "cell_type": "code",
   "execution_count": 480,
   "metadata": {},
   "outputs": [
    {
     "data": {
      "text/html": [
       "<div>\n",
       "<style scoped>\n",
       "    .dataframe tbody tr th:only-of-type {\n",
       "        vertical-align: middle;\n",
       "    }\n",
       "\n",
       "    .dataframe tbody tr th {\n",
       "        vertical-align: top;\n",
       "    }\n",
       "\n",
       "    .dataframe thead th {\n",
       "        text-align: right;\n",
       "    }\n",
       "</style>\n",
       "<table border=\"1\" class=\"dataframe\">\n",
       "  <thead>\n",
       "    <tr style=\"text-align: right;\">\n",
       "      <th></th>\n",
       "      <th>Size</th>\n",
       "      <th>Color</th>\n",
       "      <th>Size_Category</th>\n",
       "      <th>Small</th>\n",
       "      <th>Medium</th>\n",
       "      <th>Large</th>\n",
       "    </tr>\n",
       "  </thead>\n",
       "  <tbody>\n",
       "    <tr>\n",
       "      <th>0</th>\n",
       "      <td>222</td>\n",
       "      <td>Red</td>\n",
       "      <td>Large</td>\n",
       "      <td>False</td>\n",
       "      <td>False</td>\n",
       "      <td>True</td>\n",
       "    </tr>\n",
       "    <tr>\n",
       "      <th>1</th>\n",
       "      <td>97</td>\n",
       "      <td>Yellow</td>\n",
       "      <td>Small</td>\n",
       "      <td>True</td>\n",
       "      <td>False</td>\n",
       "      <td>False</td>\n",
       "    </tr>\n",
       "    <tr>\n",
       "      <th>2</th>\n",
       "      <td>167</td>\n",
       "      <td>Red</td>\n",
       "      <td>Medium</td>\n",
       "      <td>False</td>\n",
       "      <td>True</td>\n",
       "      <td>False</td>\n",
       "    </tr>\n",
       "    <tr>\n",
       "      <th>3</th>\n",
       "      <td>242</td>\n",
       "      <td>Red</td>\n",
       "      <td>Large</td>\n",
       "      <td>False</td>\n",
       "      <td>False</td>\n",
       "      <td>True</td>\n",
       "    </tr>\n",
       "    <tr>\n",
       "      <th>4</th>\n",
       "      <td>117</td>\n",
       "      <td>Red</td>\n",
       "      <td>Medium</td>\n",
       "      <td>False</td>\n",
       "      <td>True</td>\n",
       "      <td>False</td>\n",
       "    </tr>\n",
       "  </tbody>\n",
       "</table>\n",
       "</div>"
      ],
      "text/plain": [
       "   Size   Color Size_Category  Small  Medium  Large\n",
       "0   222     Red         Large  False   False   True\n",
       "1    97  Yellow         Small   True   False  False\n",
       "2   167     Red        Medium  False    True  False\n",
       "3   242     Red         Large  False   False   True\n",
       "4   117     Red        Medium  False    True  False"
      ]
     },
     "execution_count": 480,
     "metadata": {},
     "output_type": "execute_result"
    }
   ],
   "source": [
    "df2.head()"
   ]
  },
  {
   "cell_type": "markdown",
   "metadata": {},
   "source": [
    "De kleuren one hot encoden"
   ]
  },
  {
   "cell_type": "code",
   "execution_count": 481,
   "metadata": {},
   "outputs": [],
   "source": [
    "color_dummies = pd.get_dummies(df['Color'], prefix='Color_Encoded')\n",
    "df = pd.concat([df, color_dummies], axis=1)\n",
    "df2 =pd.concat([df2, color_dummies], axis=1)"
   ]
  },
  {
   "cell_type": "code",
   "execution_count": 482,
   "metadata": {},
   "outputs": [
    {
     "data": {
      "text/html": [
       "<div>\n",
       "<style scoped>\n",
       "    .dataframe tbody tr th:only-of-type {\n",
       "        vertical-align: middle;\n",
       "    }\n",
       "\n",
       "    .dataframe tbody tr th {\n",
       "        vertical-align: top;\n",
       "    }\n",
       "\n",
       "    .dataframe thead th {\n",
       "        text-align: right;\n",
       "    }\n",
       "</style>\n",
       "<table border=\"1\" class=\"dataframe\">\n",
       "  <thead>\n",
       "    <tr style=\"text-align: right;\">\n",
       "      <th></th>\n",
       "      <th>Size</th>\n",
       "      <th>Color</th>\n",
       "      <th>Size_Category</th>\n",
       "      <th>Small</th>\n",
       "      <th>Medium</th>\n",
       "      <th>Large</th>\n",
       "      <th>Color_Encoded_Green</th>\n",
       "      <th>Color_Encoded_Red</th>\n",
       "      <th>Color_Encoded_Yellow</th>\n",
       "    </tr>\n",
       "  </thead>\n",
       "  <tbody>\n",
       "    <tr>\n",
       "      <th>0</th>\n",
       "      <td>222</td>\n",
       "      <td>Red</td>\n",
       "      <td>Large</td>\n",
       "      <td>False</td>\n",
       "      <td>False</td>\n",
       "      <td>True</td>\n",
       "      <td>False</td>\n",
       "      <td>True</td>\n",
       "      <td>False</td>\n",
       "    </tr>\n",
       "    <tr>\n",
       "      <th>1</th>\n",
       "      <td>97</td>\n",
       "      <td>Yellow</td>\n",
       "      <td>Small</td>\n",
       "      <td>True</td>\n",
       "      <td>False</td>\n",
       "      <td>False</td>\n",
       "      <td>False</td>\n",
       "      <td>False</td>\n",
       "      <td>True</td>\n",
       "    </tr>\n",
       "    <tr>\n",
       "      <th>2</th>\n",
       "      <td>167</td>\n",
       "      <td>Red</td>\n",
       "      <td>Medium</td>\n",
       "      <td>False</td>\n",
       "      <td>True</td>\n",
       "      <td>False</td>\n",
       "      <td>False</td>\n",
       "      <td>True</td>\n",
       "      <td>False</td>\n",
       "    </tr>\n",
       "    <tr>\n",
       "      <th>3</th>\n",
       "      <td>242</td>\n",
       "      <td>Red</td>\n",
       "      <td>Large</td>\n",
       "      <td>False</td>\n",
       "      <td>False</td>\n",
       "      <td>True</td>\n",
       "      <td>False</td>\n",
       "      <td>True</td>\n",
       "      <td>False</td>\n",
       "    </tr>\n",
       "    <tr>\n",
       "      <th>4</th>\n",
       "      <td>117</td>\n",
       "      <td>Red</td>\n",
       "      <td>Medium</td>\n",
       "      <td>False</td>\n",
       "      <td>True</td>\n",
       "      <td>False</td>\n",
       "      <td>False</td>\n",
       "      <td>True</td>\n",
       "      <td>False</td>\n",
       "    </tr>\n",
       "  </tbody>\n",
       "</table>\n",
       "</div>"
      ],
      "text/plain": [
       "   Size   Color Size_Category  Small  Medium  Large  Color_Encoded_Green  \\\n",
       "0   222     Red         Large  False   False   True                False   \n",
       "1    97  Yellow         Small   True   False  False                False   \n",
       "2   167     Red        Medium  False    True  False                False   \n",
       "3   242     Red         Large  False   False   True                False   \n",
       "4   117     Red        Medium  False    True  False                False   \n",
       "\n",
       "   Color_Encoded_Red  Color_Encoded_Yellow  \n",
       "0               True                 False  \n",
       "1              False                  True  \n",
       "2               True                 False  \n",
       "3               True                 False  \n",
       "4               True                 False  "
      ]
     },
     "execution_count": 482,
     "metadata": {},
     "output_type": "execute_result"
    }
   ],
   "source": [
    "df.head()"
   ]
  },
  {
   "cell_type": "code",
   "execution_count": 483,
   "metadata": {},
   "outputs": [
    {
     "data": {
      "text/html": [
       "<div>\n",
       "<style scoped>\n",
       "    .dataframe tbody tr th:only-of-type {\n",
       "        vertical-align: middle;\n",
       "    }\n",
       "\n",
       "    .dataframe tbody tr th {\n",
       "        vertical-align: top;\n",
       "    }\n",
       "\n",
       "    .dataframe thead th {\n",
       "        text-align: right;\n",
       "    }\n",
       "</style>\n",
       "<table border=\"1\" class=\"dataframe\">\n",
       "  <thead>\n",
       "    <tr style=\"text-align: right;\">\n",
       "      <th></th>\n",
       "      <th>Size</th>\n",
       "      <th>Color</th>\n",
       "      <th>Size_Category</th>\n",
       "      <th>Small</th>\n",
       "      <th>Medium</th>\n",
       "      <th>Large</th>\n",
       "      <th>Color_Encoded_Green</th>\n",
       "      <th>Color_Encoded_Red</th>\n",
       "      <th>Color_Encoded_Yellow</th>\n",
       "    </tr>\n",
       "  </thead>\n",
       "  <tbody>\n",
       "    <tr>\n",
       "      <th>0</th>\n",
       "      <td>222</td>\n",
       "      <td>Red</td>\n",
       "      <td>Large</td>\n",
       "      <td>False</td>\n",
       "      <td>False</td>\n",
       "      <td>True</td>\n",
       "      <td>False</td>\n",
       "      <td>True</td>\n",
       "      <td>False</td>\n",
       "    </tr>\n",
       "    <tr>\n",
       "      <th>1</th>\n",
       "      <td>97</td>\n",
       "      <td>Yellow</td>\n",
       "      <td>Small</td>\n",
       "      <td>True</td>\n",
       "      <td>False</td>\n",
       "      <td>False</td>\n",
       "      <td>False</td>\n",
       "      <td>False</td>\n",
       "      <td>True</td>\n",
       "    </tr>\n",
       "    <tr>\n",
       "      <th>2</th>\n",
       "      <td>167</td>\n",
       "      <td>Red</td>\n",
       "      <td>Medium</td>\n",
       "      <td>False</td>\n",
       "      <td>True</td>\n",
       "      <td>False</td>\n",
       "      <td>False</td>\n",
       "      <td>True</td>\n",
       "      <td>False</td>\n",
       "    </tr>\n",
       "    <tr>\n",
       "      <th>3</th>\n",
       "      <td>242</td>\n",
       "      <td>Red</td>\n",
       "      <td>Large</td>\n",
       "      <td>False</td>\n",
       "      <td>False</td>\n",
       "      <td>True</td>\n",
       "      <td>False</td>\n",
       "      <td>True</td>\n",
       "      <td>False</td>\n",
       "    </tr>\n",
       "    <tr>\n",
       "      <th>4</th>\n",
       "      <td>117</td>\n",
       "      <td>Red</td>\n",
       "      <td>Medium</td>\n",
       "      <td>False</td>\n",
       "      <td>True</td>\n",
       "      <td>False</td>\n",
       "      <td>False</td>\n",
       "      <td>True</td>\n",
       "      <td>False</td>\n",
       "    </tr>\n",
       "  </tbody>\n",
       "</table>\n",
       "</div>"
      ],
      "text/plain": [
       "   Size   Color Size_Category  Small  Medium  Large  Color_Encoded_Green  \\\n",
       "0   222     Red         Large  False   False   True                False   \n",
       "1    97  Yellow         Small   True   False  False                False   \n",
       "2   167     Red        Medium  False    True  False                False   \n",
       "3   242     Red         Large  False   False   True                False   \n",
       "4   117     Red        Medium  False    True  False                False   \n",
       "\n",
       "   Color_Encoded_Red  Color_Encoded_Yellow  \n",
       "0               True                 False  \n",
       "1              False                  True  \n",
       "2               True                 False  \n",
       "3               True                 False  \n",
       "4               True                 False  "
      ]
     },
     "execution_count": 483,
     "metadata": {},
     "output_type": "execute_result"
    }
   ],
   "source": [
    "df2.head()"
   ]
  },
  {
   "cell_type": "markdown",
   "metadata": {},
   "source": [
    "## Problem 2: Housing dataset feature selection\n",
    "\n",
    "Using the Household.csv dataset:\n",
    "1. Select important features using 2 different feature selection methods of your choice\n",
    "2. Explain how each feature selection method works\n",
    "3. Train linear regression models on each feature subset and compare performance\n",
    "4. Train a lasso regression model and compare with the other models\n",
    "5. Analyse the impact of the alpha parameter on the performance of the lasso regression model. Explain the results. How is feature selection performed in lasso regularization?"
   ]
  },
  {
   "cell_type": "markdown",
   "metadata": {},
   "source": [
    "biassed regressie om bepaalde dingen eruit laten , zodat de rechte beter ligt\n",
    "normaal geizen afstand ten opzichte van de gefitte lijn hebben en je voegt een bias toe \n",
    "hoeveel elke feature \n",
    "alfa 0 : normale regressie \n",
    "alfa oneidig alle features eruit smijten "
   ]
  },
  {
   "cell_type": "markdown",
   "metadata": {},
   "source": [
    "Inlezen van de dataset "
   ]
  },
  {
   "cell_type": "code",
   "execution_count": 484,
   "metadata": {},
   "outputs": [
    {
     "data": {
      "text/html": [
       "<div>\n",
       "<style scoped>\n",
       "    .dataframe tbody tr th:only-of-type {\n",
       "        vertical-align: middle;\n",
       "    }\n",
       "\n",
       "    .dataframe tbody tr th {\n",
       "        vertical-align: top;\n",
       "    }\n",
       "\n",
       "    .dataframe thead th {\n",
       "        text-align: right;\n",
       "    }\n",
       "</style>\n",
       "<table border=\"1\" class=\"dataframe\">\n",
       "  <thead>\n",
       "    <tr style=\"text-align: right;\">\n",
       "      <th></th>\n",
       "      <th>index</th>\n",
       "      <th>crim</th>\n",
       "      <th>zn</th>\n",
       "      <th>indus</th>\n",
       "      <th>chas</th>\n",
       "      <th>nox</th>\n",
       "      <th>rm</th>\n",
       "      <th>age</th>\n",
       "      <th>dis</th>\n",
       "      <th>rad</th>\n",
       "      <th>tax</th>\n",
       "      <th>ptratio</th>\n",
       "      <th>black</th>\n",
       "      <th>lstat</th>\n",
       "      <th>medv</th>\n",
       "    </tr>\n",
       "  </thead>\n",
       "  <tbody>\n",
       "    <tr>\n",
       "      <th>0</th>\n",
       "      <td>1</td>\n",
       "      <td>0.00632</td>\n",
       "      <td>18.0</td>\n",
       "      <td>2.31</td>\n",
       "      <td>0</td>\n",
       "      <td>0.538</td>\n",
       "      <td>6.575</td>\n",
       "      <td>65.2</td>\n",
       "      <td>4.0900</td>\n",
       "      <td>1</td>\n",
       "      <td>296</td>\n",
       "      <td>15.3</td>\n",
       "      <td>396.90</td>\n",
       "      <td>4.98</td>\n",
       "      <td>24.0</td>\n",
       "    </tr>\n",
       "    <tr>\n",
       "      <th>1</th>\n",
       "      <td>2</td>\n",
       "      <td>0.02731</td>\n",
       "      <td>0.0</td>\n",
       "      <td>7.07</td>\n",
       "      <td>0</td>\n",
       "      <td>0.469</td>\n",
       "      <td>6.421</td>\n",
       "      <td>78.9</td>\n",
       "      <td>4.9671</td>\n",
       "      <td>2</td>\n",
       "      <td>242</td>\n",
       "      <td>17.8</td>\n",
       "      <td>396.90</td>\n",
       "      <td>9.14</td>\n",
       "      <td>21.6</td>\n",
       "    </tr>\n",
       "    <tr>\n",
       "      <th>2</th>\n",
       "      <td>3</td>\n",
       "      <td>0.02729</td>\n",
       "      <td>0.0</td>\n",
       "      <td>7.07</td>\n",
       "      <td>0</td>\n",
       "      <td>0.469</td>\n",
       "      <td>7.185</td>\n",
       "      <td>61.1</td>\n",
       "      <td>4.9671</td>\n",
       "      <td>2</td>\n",
       "      <td>242</td>\n",
       "      <td>17.8</td>\n",
       "      <td>392.83</td>\n",
       "      <td>4.03</td>\n",
       "      <td>34.7</td>\n",
       "    </tr>\n",
       "    <tr>\n",
       "      <th>3</th>\n",
       "      <td>4</td>\n",
       "      <td>0.03237</td>\n",
       "      <td>0.0</td>\n",
       "      <td>2.18</td>\n",
       "      <td>0</td>\n",
       "      <td>0.458</td>\n",
       "      <td>6.998</td>\n",
       "      <td>45.8</td>\n",
       "      <td>6.0622</td>\n",
       "      <td>3</td>\n",
       "      <td>222</td>\n",
       "      <td>18.7</td>\n",
       "      <td>394.63</td>\n",
       "      <td>2.94</td>\n",
       "      <td>33.4</td>\n",
       "    </tr>\n",
       "    <tr>\n",
       "      <th>4</th>\n",
       "      <td>5</td>\n",
       "      <td>0.06905</td>\n",
       "      <td>0.0</td>\n",
       "      <td>2.18</td>\n",
       "      <td>0</td>\n",
       "      <td>0.458</td>\n",
       "      <td>7.147</td>\n",
       "      <td>54.2</td>\n",
       "      <td>6.0622</td>\n",
       "      <td>3</td>\n",
       "      <td>222</td>\n",
       "      <td>18.7</td>\n",
       "      <td>396.90</td>\n",
       "      <td>5.33</td>\n",
       "      <td>36.2</td>\n",
       "    </tr>\n",
       "  </tbody>\n",
       "</table>\n",
       "</div>"
      ],
      "text/plain": [
       "   index     crim    zn  indus  chas    nox     rm   age     dis  rad  tax  \\\n",
       "0      1  0.00632  18.0   2.31     0  0.538  6.575  65.2  4.0900    1  296   \n",
       "1      2  0.02731   0.0   7.07     0  0.469  6.421  78.9  4.9671    2  242   \n",
       "2      3  0.02729   0.0   7.07     0  0.469  7.185  61.1  4.9671    2  242   \n",
       "3      4  0.03237   0.0   2.18     0  0.458  6.998  45.8  6.0622    3  222   \n",
       "4      5  0.06905   0.0   2.18     0  0.458  7.147  54.2  6.0622    3  222   \n",
       "\n",
       "   ptratio   black  lstat  medv  \n",
       "0     15.3  396.90   4.98  24.0  \n",
       "1     17.8  396.90   9.14  21.6  \n",
       "2     17.8  392.83   4.03  34.7  \n",
       "3     18.7  394.63   2.94  33.4  \n",
       "4     18.7  396.90   5.33  36.2  "
      ]
     },
     "execution_count": 484,
     "metadata": {},
     "output_type": "execute_result"
    }
   ],
   "source": [
    "data = pd.read_csv('Housing.csv')\n",
    "data.head()"
   ]
  },
  {
   "cell_type": "markdown",
   "metadata": {},
   "source": [
    "## opsplitsen van de data in een trainingset en in een testset en de targetKolom ervan halen"
   ]
  },
  {
   "cell_type": "code",
   "execution_count": 485,
   "metadata": {},
   "outputs": [
    {
     "name": "stdout",
     "output_type": "stream",
     "text": [
      "(354, 14) (152, 14)\n"
     ]
    }
   ],
   "source": [
    "X = data.drop('medv', axis=1)  \n",
    "y = data['medv']\n",
    "X_train, X_test, y_train, y_test = train_test_split(X, y, test_size=0.3, random_state=42)\n",
    "print (X_train.shape, X_test.shape)"
   ]
  },
  {
   "cell_type": "markdown",
   "metadata": {},
   "source": [
    "## Schalen van de dataset"
   ]
  },
  {
   "cell_type": "code",
   "execution_count": 486,
   "metadata": {},
   "outputs": [],
   "source": [
    "X_train_scaled = pd.DataFrame(scaler.fit_transform(X_train), columns=X_train.columns)\n",
    "X_test_scaled = pd.DataFrame(scaler.transform(X_test), columns=X_test.columns)"
   ]
  },
  {
   "cell_type": "markdown",
   "metadata": {},
   "source": [
    "# Pearson correlatie\n",
    "\n",
    "\n",
    "Pearson correlatie meet de lineaire relatie tussen elke feature en de target. Features met een hoge absolute correlatie (positief of negatief) worden geselecteerd, omdat ze de sterkste invloed hebben op de output. Dit is een snelle en eenvoudige methode, maar werkt minder goed bij niet-lineaire relaties of als features onderling sterk gecorreleerd zijn.\n"
   ]
  },
  {
   "cell_type": "code",
   "execution_count": 487,
   "metadata": {},
   "outputs": [
    {
     "name": "stdout",
     "output_type": "stream",
     "text": [
      "Selected features using Pearson Correlation: ['lstat', 'dis', 'indus', 'nox', 'chas']\n"
     ]
    }
   ],
   "source": [
    "correlations = X_train_scaled.corrwith(y_train).abs()\n",
    "selected_pearson = correlations.nlargest(5).index.tolist()\n",
    "print(\"Selected features using Pearson Correlation:\", selected_pearson)"
   ]
  },
  {
   "cell_type": "markdown",
   "metadata": {},
   "source": [
    "## RFE\n",
    "RFE selecteert features door een model (bijv. LinearRegression) te trainen en iteratief de minst belangrijke feature te verwijderen. Dit proces wordt herhaald totdat alleen de beste features overblijven. RFE is krachtig omdat het gebaseerd is op modelprestaties, maar kan traag zijn bij grote datasets en is afhankelijk van het gekozen model."
   ]
  },
  {
   "cell_type": "code",
   "execution_count": 488,
   "metadata": {},
   "outputs": [
    {
     "name": "stdout",
     "output_type": "stream",
     "text": [
      "Selected features using RFE: Index(['chas', 'nox', 'rm', 'dis', 'ptratio'], dtype='object')\n"
     ]
    }
   ],
   "source": [
    "model = LinearRegression()\n",
    "rfe = RFE(model, n_features_to_select=5)\n",
    "fit = rfe.fit(X_train_scaled, y_train)\n",
    "selected_features_rfe = X_train_scaled.columns[fit.support_]\n",
    "print(\"Selected features using RFE:\", selected_features_rfe)"
   ]
  },
  {
   "cell_type": "markdown",
   "metadata": {},
   "source": [
    "# Trainen van het Pearson model \n"
   ]
  },
  {
   "cell_type": "code",
   "execution_count": 489,
   "metadata": {},
   "outputs": [],
   "source": [
    "model_pearson = LinearRegression()\n",
    "model_pearson.fit(X_train_scaled[selected_pearson], y_train)\n",
    "y_pred_pearson = model_pearson.predict(X_test_scaled[selected_pearson])\n",
    "mse_pearson = mean_squared_error(y_test, y_pred_pearson)\n"
   ]
  },
  {
   "cell_type": "markdown",
   "metadata": {},
   "source": [
    "# trainen van de RFE model"
   ]
  },
  {
   "cell_type": "code",
   "execution_count": 490,
   "metadata": {},
   "outputs": [],
   "source": [
    "model_rfe = LinearRegression()\n",
    "model_rfe.fit(X_train_scaled[selected_rfe], y_train)\n",
    "y_pred_rfe = model_rfe.predict(X_test_scaled[selected_rfe])\n",
    "mse_rfe = mean_squared_error(y_test, y_pred_rfe)"
   ]
  },
  {
   "cell_type": "markdown",
   "metadata": {},
   "source": [
    " # Trainen van Lasso Model"
   ]
  },
  {
   "cell_type": "code",
   "execution_count": 491,
   "metadata": {},
   "outputs": [],
   "source": [
    "lasso = Lasso(alpha=0.1)\n",
    "lasso.fit(X_train_scaled, y_train)\n",
    "y_pred_lasso = lasso.predict(X_test_scaled)\n",
    "mse_lasso = mean_squared_error(y_test, y_pred_lasso)\n"
   ]
  },
  {
   "cell_type": "code",
   "execution_count": 492,
   "metadata": {},
   "outputs": [
    {
     "name": "stdout",
     "output_type": "stream",
     "text": [
      "Mean Squared Error (MSE) voor Pearson model: 32.189124493995934\n",
      "Mean Squared Error (MSE) voor RFE model: 28.207852604230407\n",
      "Mean Squared Error (MSE) voor Lasso model: 23.391419991283268\n"
     ]
    }
   ],
   "source": [
    "print(\"Mean Squared Error (MSE) voor Pearson model:\", mse_pearson)\n",
    "print(\"Mean Squared Error (MSE) voor RFE model:\", mse_rfe)\n",
    "print(\"Mean Squared Error (MSE) voor Lasso model:\", mse_lasso)"
   ]
  },
  {
   "cell_type": "markdown",
   "metadata": {},
   "source": [
    "Analyse van de Alfa waarde"
   ]
  },
  {
   "cell_type": "code",
   "execution_count": 493,
   "metadata": {},
   "outputs": [
    {
     "data": {
      "text/plain": [
       "Text(0.5, 1.0, 'Alpha vs. MSE')"
      ]
     },
     "execution_count": 493,
     "metadata": {},
     "output_type": "execute_result"
    },
    {
     "data": {
      "image/png": "[encoded data removed]",
      "text/plain": [
       "<Figure size 1000x600 with 1 Axes>"
      ]
     },
     "metadata": {},
     "output_type": "display_data"
    }
   ],
   "source": [
    "alphas = np.logspace(-4, 2, 100) # alphas from 0.0001 to 100\n",
    "mse_values = []\n",
    "for alpha in alphas:\n",
    "    lasso = Lasso(alpha=alpha)\n",
    "    lasso.fit(X_train, y_train)\n",
    "    y_pred = lasso.predict(X_test)\n",
    "    mse_values.append(mean_squared_error(y_test, y_pred))\n",
    "\n",
    "# Plotting\n",
    "plt.figure(figsize=(10, 6))\n",
    "plt.semilogx(alphas, mse_values)\n",
    "plt.xlabel('Alpha')\n",
    "plt.ylabel('Mean Squared Error (MSE)')\n",
    "plt.title('Alpha vs. MSE')\n"
   ]
  },
  {
   "cell_type": "markdown",
   "metadata": {},
   "source": [
    "### Alfa waarde\n",
    "Lasso-regressie gebruikt de alpha-parameter om de sterkte van regularisatie te bepalen. Een kleine alpha zorgt voor minder regularisatie, waardoor meer kenmerken behouden blijven, terwijl een grote alpha de coëfficiënten verder naar nul krimpt, wat leidt tot sterkere feature selectie. De grafiek toont de verandering in MSE bij verschillende alpha-waarden, waarbij de optimale alpha de MSE minimaliseert. Lasso voert automatische feature selectie uit door minder belangrijke kenmerken naar nul te krimpen, waarbij alleen de belangrijkste kenmerken overblijven."
   ]
  },
  {
   "cell_type": "markdown",
   "metadata": {},
   "source": [
    "### conclusie \n",
    "\n",
    "Pearson Correlatie is een snelle en eenvoudige methode die lineaire relaties tussen kenmerken en het doel meet, maar geen interacties tussen kenmerken overweegt. RFE (Recursive Feature Elimination) is computationeel intensiever en gebruikt een machine learning model om iteratief minder belangrijke kenmerken te verwijderen, waarbij het wel interacties tussen kenmerken in aanmerking neemt. Lasso is een krachtige techniek voor zowel feature selectie als regularisatie, waarbij de keuze van alpha cruciaal is: te klein kan leiden tot overfitting, te groot tot underfitting. Bij modelvergelijking kunnen de MSE’s van verschillende methoden, zoals Pearson en RFE, worden vergeleken om te bepalen welke feature selectie het beste presteert. Lasso biedt vaak een goede balans tussen prestaties en interpretatie, terwijl RFE beter presteert bij interacties tussen kenmerken en Pearson eenvoudiger is, maar mogelijk minder krachtig."
   ]
  }
 ],
 "metadata": {
  "kernelspec": {
   "display_name": "machine_learning",
   "language": "python",
   "name": "python3"
  },
  "language_info": {
   "codemirror_mode": {
    "name": "ipython",
    "version": 3
   },
   "file_extension": ".py",
   "mimetype": "text/x-python",
   "name": "python",
   "nbconvert_exporter": "python",
   "pygments_lexer": "ipython3",
   "version": "3.9.21"
  },
  "toc-autonumbering": false,
  "toc-showcode": false,
  "toc-showmarkdowntxt": false
 },
 "nbformat": 4,
 "nbformat_minor": 4
}
