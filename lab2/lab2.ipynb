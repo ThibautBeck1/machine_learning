{
 "cells": [
  {
   "cell_type": "markdown",
   "metadata": {},
   "source": [
    "# Machine Learning: Lab 2\n",
    "## Feature engineering\n",
    "TA: Bryan Coulier (bryan.coulier@kuleuven.be)\n"
   ]
  },
  {
   "cell_type": "code",
   "execution_count": 2,
   "metadata": {},
   "outputs": [],
   "source": [
    "# Import necessary libraries\n",
    "import numpy as np\n",
    "#..."
   ]
  },
  {
   "cell_type": "markdown",
   "metadata": {},
   "source": [
    "### Remove Constant Features\n",
    "Remove all constant features from the random matrix with Scikit-learn and print the shape of the matrix"
   ]
  },
  {
   "cell_type": "code",
   "execution_count": null,
   "metadata": {},
   "outputs": [
    {
     "data": {
      "text/plain": [
       "array([[ 37, 100,  72, 100,  75, 100,  79,  64,  16,   1],\n",
       "       [ 76, 100,   6, 100,  50, 100,  18,  84,  11,  28],\n",
       "       [ 29, 100,  50, 100,  87, 100,  94,  96,  86,  13],\n",
       "       [  9, 100,  63, 100,  22, 100,   1,   0,  60,  81],\n",
       "       [  8, 100,  13, 100,  72, 100,  71,   3,  70,  21]])"
      ]
     },
     "execution_count": 3,
     "metadata": {},
     "output_type": "execute_result"
    }
   ],
   "source": [
    "np.random.seed(1)\n",
    "X_rand = np.random.randint(0, 100, (50, 10))\n",
    "X_rand[:, [1,3,5]] = 100\n",
    "X_rand[:5, :]\n",
    "#..."
   ]
  },
  {
   "cell_type": "code",
   "execution_count": null,
   "metadata": {},
   "outputs": [],
   "source": []
  },
  {
   "cell_type": "markdown",
   "metadata": {},
   "source": [
    "### Remove Quasi-Constant Features\n",
    "Scale the features in the Housing.csv data and remove all features with a variance < 0.1, print the removed features"
   ]
  },
  {
   "cell_type": "code",
   "execution_count": null,
   "metadata": {},
   "outputs": [],
   "source": []
  },
  {
   "cell_type": "markdown",
   "metadata": {},
   "source": [
    "### Univariate Feature Selection\n",
    "Univariate feature selection is a simple technique for reducing the dimensionality of the feature space by selecting only the most important features.\n",
    "\n",
    "Read in breast cancer toydataset and split into features and target"
   ]
  },
  {
   "cell_type": "code",
   "execution_count": null,
   "metadata": {},
   "outputs": [],
   "source": []
  },
  {
   "cell_type": "markdown",
   "metadata": {},
   "source": [
    "Select the 3 features with the strongest relationship to the target"
   ]
  },
  {
   "cell_type": "code",
   "execution_count": null,
   "metadata": {},
   "outputs": [],
   "source": []
  },
  {
   "cell_type": "markdown",
   "metadata": {},
   "source": [
    "Select features based on top 30 percentile"
   ]
  },
  {
   "cell_type": "code",
   "execution_count": null,
   "metadata": {},
   "outputs": [],
   "source": []
  },
  {
   "cell_type": "markdown",
   "metadata": {},
   "source": [
    "Print out the names of the selected features that where selected based on the percentile"
   ]
  },
  {
   "cell_type": "code",
   "execution_count": null,
   "metadata": {},
   "outputs": [],
   "source": []
  },
  {
   "cell_type": "markdown",
   "metadata": {},
   "source": [
    "Read in toydataset diabetes and split into features and target"
   ]
  },
  {
   "cell_type": "code",
   "execution_count": null,
   "metadata": {},
   "outputs": [],
   "source": []
  },
  {
   "cell_type": "markdown",
   "metadata": {},
   "source": [
    "Select features based on top 30 percentile and print out these features"
   ]
  },
  {
   "cell_type": "code",
   "execution_count": null,
   "metadata": {},
   "outputs": [],
   "source": []
  },
  {
   "cell_type": "markdown",
   "metadata": {},
   "source": [
    "## Problem 1: Fruits feature engineering\n",
    "Given a dataset containing information about the size and color of fruits, the task is to create new (more useful) features from the existing ones.\n",
    "\n",
    "### Dataset\n",
    "The dataset is a pandas dataframe with two columns:\n",
    "\n",
    "- \"Size\": a continuous variable representing the size of the fruit.\n",
    "- \"Color\": a categorical variable representing the color of the fruit.\n",
    "\n",
    "### Task\n",
    "1) Create a new feature \"Size_Category\" by grouping the \"Size\" column into 3 categories: Small, Medium, and Large. The criteria for grouping the values should be as follows:\n",
    "    - Small: Size < 100\n",
    "    - Medium: 100 <= Size < 200\n",
    "    - Large: Size >= 200\n",
    "2) Create a new feature \"Color_Encoded\" by encoding the \"Color\" column using one-hot encoding.\n",
    "3) Print the first 5 rows of the dataframe to check if the new features have been created successfully.\n",
    "\n",
    "Example output:\n",
    "|Index  | Size  | Color   | Size_Category | Color_Encoded_Red | Color_Encoded_Green | Color_Encoded_Yellow |\n",
    "|-------|-------|---------|---------------|------------------|------------------- |-------------------- |\n",
    "| 0     |150    | Green   | Medium           | 0.0              | 1.0                | 0.0                 |\n",
    "| 1     |250    | Red     | Large           | 1.0              | 0.0                | 0.0                 |\n",
    "| 2     |180    | Yellow  | Medium           | 0.0              | 0.0                | 1.0                 |\n",
    "| 3     |100    | Green   | Medium           | 0.0              | 1.0                | 0.0                 |\n",
    "| 4     |200    | Red     | Large           | 1.0              | 0.0                | 0.0                 |\n",
    "\n",
    "\n",
    "Note: use the following code to generate a sample dataframe for the task:\n",
    "```Python\n",
    "import pandas as pd\n",
    "import numpy as np\n",
    "\n",
    "np.random.seed(0)\n",
    "data = {\"Size\": np.random.randint(50, 300, size=(100,)),\"Color\": np.random.choice([\"Red\", \"Green\", \"Yellow\"], size=(100,))}\n",
    "df = pd.DataFrame(data)\n",
    "```"
   ]
  },
  {
   "cell_type": "code",
   "execution_count": null,
   "metadata": {},
   "outputs": [],
   "source": []
  },
  {
   "cell_type": "markdown",
   "metadata": {},
   "source": [
    "## Problem 2: Housing dataset feature selection\n",
    "\n",
    "Using the Household.csv dataset:\n",
    "1. Select important features using 2 different feature selection methods of your choice\n",
    "2. Explain how each feature selection method works\n",
    "3. Train linear regression models on each feature subset and compare performance\n",
    "4. Train a lasso regression model and compare with the other models\n",
    "5. Analyse the impact of the alpha parameter on the performance of the lasso regression model. Explain the results. How is feature selection performed in lasso regularization?"
   ]
  },
  {
   "cell_type": "code",
   "execution_count": null,
   "metadata": {},
   "outputs": [],
   "source": []
  }
 ],
 "metadata": {
  "kernelspec": {
   "display_name": "Julia 1.8.5",
   "language": "julia",
   "name": "julia-1.8"
  },
  "language_info": {
   "file_extension": ".jl",
   "mimetype": "application/julia",
   "name": "julia",
   "version": "1.8.5"
  },
  "toc-autonumbering": false,
  "toc-showcode": false,
  "toc-showmarkdowntxt": false,
  "vscode": {
   "interpreter": {
    "hash": "895c8dd27124c29540f9e8173a4e488ece44cf161cc16ae9089e266d67b7299d"
   }
  }
 },
 "nbformat": 4,
 "nbformat_minor": 4
}
