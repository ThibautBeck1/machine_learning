{
 "cells": [
  {
   "cell_type": "markdown",
   "metadata": {},
   "source": [
    "# Machine Learning: Lab 2\n",
    "## Feature engineering\n",
    "TA: Bryan Coulier (bryan.coulier@kuleuven.be)\n",
    "\n",
    "features aanpassen aan de hand van wat je wil veranderen"
   ]
  },
  {
   "cell_type": "code",
   "execution_count": 92,
   "metadata": {},
   "outputs": [],
   "source": [
    "# Import necessary libraries\n",
    "import numpy as np\n",
    "from sklearn.feature_selection import VarianceThreshold\n",
    "import pandas as pd\n",
    "from sklearn.preprocessing import StandardScaler\n"
   ]
  },
  {
   "cell_type": "markdown",
   "metadata": {},
   "source": [
    "### Remove Constant Features\n",
    "Remove all constant features from the random matrix with Scikit-learn and print the shape of the matrix"
   ]
  },
  {
   "cell_type": "markdown",
   "metadata": {},
   "source": [
    "If Variance Threshold = 0 (Remove Constant Features )\n",
    "If Variance Threshold > 0 (Remove Quasi-Constant Features )\n",
    "http://medium.com/nerd-for-tech/removing-constant-variables-feature-selection-463e2d6a30d9\n",
    "\n",
    "fit_transform(X) in VarianceThreshold berekent eerst de variantie van elke kolom (fit) en verwijdert vervolgens de kolommen met te lage variantie (transform). Hierdoor blijven alleen de relevante features over.\n"
   ]
  },
  {
   "cell_type": "code",
   "execution_count": 93,
   "metadata": {},
   "outputs": [],
   "source": [
    "np.random.seed(1)\n",
    "X_rand = np.random.randint(0, 100, (50, 10))\n",
    "X_rand[:, [1,3,5]] = 100\n",
    "X_rand[:5, :]\n",
    " \n",
    "X_reduced = VarianceThreshold(threshold=0).fit_transform(X_rand)\n"
   ]
  },
  {
   "cell_type": "markdown",
   "metadata": {},
   "source": [
    "### Remove Quasi-Constant Features\n",
    "Scale the features in the Housing.csv data and remove all features with a variance < 0.1, print the removed features"
   ]
  },
  {
   "cell_type": "markdown",
   "metadata": {},
   "source": [
    "inladen van de dataset"
   ]
  },
  {
   "cell_type": "code",
   "execution_count": 94,
   "metadata": {},
   "outputs": [],
   "source": [
    "housing_data = pd.read_csv('Housing.csv')"
   ]
  },
  {
   "cell_type": "markdown",
   "metadata": {},
   "source": [
    "Opschalen van de features \n",
    "\n",
    "de standaardscore wordt berekend aan de hand van :\n",
    "'''\n",
    "z = (x - u) / s\n",
    "where u is the mean of the training samples or zero if with_mean=False, and s is the standard deviation of the training samples or one if with_std=False.'''"
   ]
  },
  {
   "cell_type": "code",
   "execution_count": 95,
   "metadata": {},
   "outputs": [],
   "source": [
    "scaler = StandardScaler(with_std=False)\n",
    "scaled_data = scaler.fit_transform(housing_data)"
   ]
  },
  {
   "cell_type": "markdown",
   "metadata": {},
   "source": [
    "Vergelijking tussen de normale data en de geschaalde data "
   ]
  },
  {
   "cell_type": "code",
   "execution_count": 96,
   "metadata": {},
   "outputs": [
    {
     "name": "stdout",
     "output_type": "stream",
     "text": [
      "   index      crim         zn     indus     chas       nox        rm  \\\n",
      "0 -252.5 -3.607204   6.636364 -8.826779 -0.06917 -0.016695  0.290366   \n",
      "1 -251.5 -3.586214 -11.363636 -4.066779 -0.06917 -0.085695  0.136366   \n",
      "2 -250.5 -3.586234 -11.363636 -4.066779 -0.06917 -0.085695  0.900366   \n",
      "3 -249.5 -3.581154 -11.363636 -8.956779 -0.06917 -0.096695  0.713366   \n",
      "4 -248.5 -3.544474 -11.363636 -8.956779 -0.06917 -0.096695  0.862366   \n",
      "\n",
      "         age       dis       rad         tax   ptratio      black     lstat  \\\n",
      "0  -3.374901  0.294957 -8.549407 -112.237154 -3.155534  40.225968 -7.673063   \n",
      "1  10.325099  1.172057 -7.549407 -166.237154 -0.655534  40.225968 -3.513063   \n",
      "2  -7.474901  1.172057 -7.549407 -166.237154 -0.655534  36.155968 -8.623063   \n",
      "3 -22.774901  2.267157 -6.549407 -186.237154  0.244466  37.955968 -9.713063   \n",
      "4 -14.374901  2.267157 -6.549407 -186.237154  0.244466  40.225968 -7.323063   \n",
      "\n",
      "        medv  \n",
      "0   1.467194  \n",
      "1  -0.932806  \n",
      "2  12.167194  \n",
      "3  10.867194  \n",
      "4  13.667194  \n",
      "-----------------\n",
      "   index     crim    zn  indus  chas    nox     rm   age     dis  rad  tax  \\\n",
      "0      1  0.00632  18.0   2.31     0  0.538  6.575  65.2  4.0900    1  296   \n",
      "1      2  0.02731   0.0   7.07     0  0.469  6.421  78.9  4.9671    2  242   \n",
      "2      3  0.02729   0.0   7.07     0  0.469  7.185  61.1  4.9671    2  242   \n",
      "3      4  0.03237   0.0   2.18     0  0.458  6.998  45.8  6.0622    3  222   \n",
      "4      5  0.06905   0.0   2.18     0  0.458  7.147  54.2  6.0622    3  222   \n",
      "\n",
      "   ptratio   black  lstat  medv  \n",
      "0     15.3  396.90   4.98  24.0  \n",
      "1     17.8  396.90   9.14  21.6  \n",
      "2     17.8  392.83   4.03  34.7  \n",
      "3     18.7  394.63   2.94  33.4  \n",
      "4     18.7  396.90   5.33  36.2  \n"
     ]
    }
   ],
   "source": [
    "print(pd.DataFrame(scaled_data, columns=housing_data.columns).head())\n",
    "print(\"-----------------\")\n",
    "print(housing_data.head())"
   ]
  },
  {
   "cell_type": "code",
   "execution_count": 97,
   "metadata": {},
   "outputs": [
    {
     "name": "stdout",
     "output_type": "stream",
     "text": [
      "Removed features: Index(['chas', 'nox'], dtype='object')\n"
     ]
    }
   ],
   "source": [
    "selector = VarianceThreshold(threshold=0.1)\n",
    "reduced_data = selector.fit_transform(scaled_data)\n",
    "\n",
    "# ~ staat voor not \n",
    "removed_features = housing_data.columns[~selector.get_support()]  \n",
    "\n",
    "print(\"Removed features:\", removed_features)"
   ]
  },
  {
   "cell_type": "markdown",
   "metadata": {},
   "source": [
    "### Univariate Feature Selection\n",
    "Univariate feature selection is a simple technique for reducing the dimensionality of the feature space by selecting only the most important features.\n",
    "\n",
    "Read in breast cancer toydataset and split into features and target"
   ]
  },
  {
   "cell_type": "code",
   "execution_count": 98,
   "metadata": {},
   "outputs": [
    {
     "name": "stdout",
     "output_type": "stream",
     "text": [
      "[0 0 0 0 0 0 0 0 0 0 0 0 0 0 0 0 0 0 0 1 1 1 0 0 0 0 0 0 0 0 0 0 0 0 0 0 0\n",
      " 1 0 0 0 0 0 0 0 0 1 0 1 1 1 1 1 0 0 1 0 0 1 1 1 1 0 1 0 0 1 1 1 1 0 1 0 0\n",
      " 1 0 1 0 0 1 1 1 0 0 1 0 0 0 1 1 1 0 1 1 0 0 1 1 1 0 0 1 1 1 1 0 1 1 0 1 1\n",
      " 1 1 1 1 1 1 0 0 0 1 0 0 1 1 1 0 0 1 0 1 0 0 1 0 0 1 1 0 1 1 0 1 1 1 1 0 1\n",
      " 1 1 1 1 1 1 1 1 0 1 1 1 1 0 0 1 0 1 1 0 0 1 1 0 0 1 1 1 1 0 1 1 0 0 0 1 0\n",
      " 1 0 1 1 1 0 1 1 0 0 1 0 0 0 0 1 0 0 0 1 0 1 0 1 1 0 1 0 0 0 0 1 1 0 0 1 1\n",
      " 1 0 1 1 1 1 1 0 0 1 1 0 1 1 0 0 1 0 1 1 1 1 0 1 1 1 1 1 0 1 0 0 0 0 0 0 0\n",
      " 0 0 0 0 0 0 0 1 1 1 1 1 1 0 1 0 1 1 0 1 1 0 1 0 0 1 1 1 1 1 1 1 1 1 1 1 1\n",
      " 1 0 1 1 0 1 0 1 1 1 1 1 1 1 1 1 1 1 1 1 1 0 1 1 1 0 1 0 1 1 1 1 0 0 0 1 1\n",
      " 1 1 0 1 0 1 0 1 1 1 0 1 1 1 1 1 1 1 0 0 0 1 1 1 1 1 1 1 1 1 1 1 0 0 1 0 0\n",
      " 0 1 0 0 1 1 1 1 1 0 1 1 1 1 1 0 1 1 1 0 1 1 0 0 1 1 1 1 1 1 0 1 1 1 1 1 1\n",
      " 1 0 1 1 1 1 1 0 1 1 0 1 1 1 1 1 1 1 1 1 1 1 1 0 1 0 0 1 0 1 1 1 1 1 0 1 1\n",
      " 0 1 0 1 1 0 1 0 1 1 1 1 1 1 1 1 0 0 1 1 1 1 1 1 0 1 1 1 1 1 1 1 1 1 1 0 1\n",
      " 1 1 1 1 1 1 0 1 0 1 1 0 1 1 1 1 1 0 0 1 0 1 0 1 1 1 1 1 0 1 1 0 1 0 1 0 0\n",
      " 1 1 1 0 1 1 1 1 1 1 1 1 1 1 1 0 1 0 0 1 1 1 1 1 1 1 1 1 1 1 1 1 1 1 1 1 1\n",
      " 1 1 1 1 1 1 1 0 0 0 0 0 0 1]\n",
      "[[1.799e+01 1.038e+01 1.228e+02 ... 2.654e-01 4.601e-01 1.189e-01]\n",
      " [2.057e+01 1.777e+01 1.329e+02 ... 1.860e-01 2.750e-01 8.902e-02]\n",
      " [1.969e+01 2.125e+01 1.300e+02 ... 2.430e-01 3.613e-01 8.758e-02]\n",
      " ...\n",
      " [1.660e+01 2.808e+01 1.083e+02 ... 1.418e-01 2.218e-01 7.820e-02]\n",
      " [2.060e+01 2.933e+01 1.401e+02 ... 2.650e-01 4.087e-01 1.240e-01]\n",
      " [7.760e+00 2.454e+01 4.792e+01 ... 0.000e+00 2.871e-01 7.039e-02]]\n"
     ]
    }
   ],
   "source": [
    "from sklearn.datasets import load_breast_cancer\n",
    "import pandas as pd\n",
    "\n",
    "# Load the breast cancer dataset\n",
    "brcn = load_breast_cancer()\n",
    "\n",
    "# Convert to DataFrame\n",
    "target = brcn.target\n",
    "features = brcn.data\n",
    "\n",
    "print(target)\n",
    "print (features)"
   ]
  },
  {
   "cell_type": "markdown",
   "metadata": {},
   "source": [
    "Select the 3 features with the strongest relationship to the target"
   ]
  },
  {
   "cell_type": "code",
   "execution_count": 99,
   "metadata": {},
   "outputs": [
    {
     "name": "stdout",
     "output_type": "stream",
     "text": [
      "Index(['worst concave points', 'worst perimeter', 'mean concave points'], dtype='object')\n"
     ]
    }
   ],
   "source": [
    "df = pd.DataFrame(features, columns=brcn.feature_names)\n",
    "df[\"target\"] = brcn.target\n",
    "correlations = df.corr()[\"target\"].abs().sort_values(ascending=False)\n",
    "\n",
    "# Selecteer de top 3 features\n",
    "top_features = correlations.index[1:4]\n",
    "print(top_features)"
   ]
  },
  {
   "cell_type": "markdown",
   "metadata": {},
   "source": [
    "Select features based on top 30 percentile"
   ]
  },
  {
   "cell_type": "code",
   "execution_count": 100,
   "metadata": {},
   "outputs": [],
   "source": [
    "from sklearn.feature_selection import SelectPercentile\n",
    "\n",
    "# Select the top 30 percentile features\n",
    "selector = SelectPercentile(score_func=f_classif, percentile=30)\n",
    "selector.fit(features, target)\n",
    "\n",
    "# Get the selected feature names\n",
    "selected_features_percentile = brcn.feature_names[selector.get_support()]"
   ]
  },
  {
   "cell_type": "markdown",
   "metadata": {},
   "source": [
    "Print out the names of the selected features that where selected based on the percentile"
   ]
  },
  {
   "cell_type": "code",
   "execution_count": 101,
   "metadata": {},
   "outputs": [
    {
     "name": "stdout",
     "output_type": "stream",
     "text": [
      "Selected features based on top 30 percentile: ['mean radius' 'mean perimeter' 'mean area' 'mean concavity'\n",
      " 'mean concave points' 'worst radius' 'worst perimeter' 'worst area'\n",
      " 'worst concave points']\n"
     ]
    }
   ],
   "source": [
    "print(\"Selected features based on top 30 percentile:\", selected_features_percentile)"
   ]
  },
  {
   "cell_type": "markdown",
   "metadata": {},
   "source": [
    "Read in toydataset diabetes and split into features and target"
   ]
  },
  {
   "cell_type": "code",
   "execution_count": 102,
   "metadata": {},
   "outputs": [
    {
     "name": "stdout",
     "output_type": "stream",
     "text": [
      "[[ 0.03807591  0.05068012  0.06169621 ... -0.00259226  0.01990749\n",
      "  -0.01764613]\n",
      " [-0.00188202 -0.04464164 -0.05147406 ... -0.03949338 -0.06833155\n",
      "  -0.09220405]\n",
      " [ 0.08529891  0.05068012  0.04445121 ... -0.00259226  0.00286131\n",
      "  -0.02593034]\n",
      " ...\n",
      " [ 0.04170844  0.05068012 -0.01590626 ... -0.01107952 -0.04688253\n",
      "   0.01549073]\n",
      " [-0.04547248 -0.04464164  0.03906215 ...  0.02655962  0.04452873\n",
      "  -0.02593034]\n",
      " [-0.04547248 -0.04464164 -0.0730303  ... -0.03949338 -0.00422151\n",
      "   0.00306441]]\n",
      "[151.  75. 141. 206. 135.  97. 138.  63. 110. 310. 101.  69. 179. 185.\n",
      " 118. 171. 166. 144.  97. 168.  68.  49.  68. 245. 184. 202. 137.  85.\n",
      " 131. 283. 129.  59. 341.  87.  65. 102. 265. 276. 252.  90. 100.  55.\n",
      "  61.  92. 259.  53. 190. 142.  75. 142. 155. 225.  59. 104. 182. 128.\n",
      "  52.  37. 170. 170.  61. 144.  52. 128.  71. 163. 150.  97. 160. 178.\n",
      "  48. 270. 202. 111.  85.  42. 170. 200. 252. 113. 143.  51.  52. 210.\n",
      "  65. 141.  55. 134.  42. 111.  98. 164.  48.  96.  90. 162. 150. 279.\n",
      "  92.  83. 128. 102. 302. 198.  95.  53. 134. 144. 232.  81. 104.  59.\n",
      " 246. 297. 258. 229. 275. 281. 179. 200. 200. 173. 180.  84. 121. 161.\n",
      "  99. 109. 115. 268. 274. 158. 107.  83. 103. 272.  85. 280. 336. 281.\n",
      " 118. 317. 235.  60. 174. 259. 178. 128.  96. 126. 288.  88. 292.  71.\n",
      " 197. 186.  25.  84.  96. 195.  53. 217. 172. 131. 214.  59.  70. 220.\n",
      " 268. 152.  47.  74. 295. 101. 151. 127. 237. 225.  81. 151. 107.  64.\n",
      " 138. 185. 265. 101. 137. 143. 141.  79. 292. 178.  91. 116.  86. 122.\n",
      "  72. 129. 142.  90. 158.  39. 196. 222. 277.  99. 196. 202. 155.  77.\n",
      " 191.  70.  73.  49.  65. 263. 248. 296. 214. 185.  78.  93. 252. 150.\n",
      "  77. 208.  77. 108. 160.  53. 220. 154. 259.  90. 246. 124.  67.  72.\n",
      " 257. 262. 275. 177.  71.  47. 187. 125.  78.  51. 258. 215. 303. 243.\n",
      "  91. 150. 310. 153. 346.  63.  89.  50.  39. 103. 308. 116. 145.  74.\n",
      "  45. 115. 264.  87. 202. 127. 182. 241.  66.  94. 283.  64. 102. 200.\n",
      " 265.  94. 230. 181. 156. 233.  60. 219.  80.  68. 332. 248.  84. 200.\n",
      "  55.  85.  89.  31. 129.  83. 275.  65. 198. 236. 253. 124.  44. 172.\n",
      " 114. 142. 109. 180. 144. 163. 147.  97. 220. 190. 109. 191. 122. 230.\n",
      " 242. 248. 249. 192. 131. 237.  78. 135. 244. 199. 270. 164.  72.  96.\n",
      " 306.  91. 214.  95. 216. 263. 178. 113. 200. 139. 139.  88. 148.  88.\n",
      " 243.  71.  77. 109. 272.  60.  54. 221.  90. 311. 281. 182. 321.  58.\n",
      " 262. 206. 233. 242. 123. 167.  63. 197.  71. 168. 140. 217. 121. 235.\n",
      " 245.  40.  52. 104. 132.  88.  69. 219.  72. 201. 110.  51. 277.  63.\n",
      " 118.  69. 273. 258.  43. 198. 242. 232. 175.  93. 168. 275. 293. 281.\n",
      "  72. 140. 189. 181. 209. 136. 261. 113. 131. 174. 257.  55.  84.  42.\n",
      " 146. 212. 233.  91. 111. 152. 120.  67. 310.  94. 183.  66. 173.  72.\n",
      "  49.  64.  48. 178. 104. 132. 220.  57.]\n"
     ]
    }
   ],
   "source": [
    "from sklearn.datasets import load_diabetes\n",
    "\n",
    "# Load the diabetes dataset\n",
    "diabetes = load_diabetes()\n",
    "\n",
    "# Split into features and target\n",
    "diabetes_features = diabetes.data\n",
    "diabetes_target = diabetes.target\n",
    "\n",
    "print(diabetes_features)\n",
    "print(diabetes_target)"
   ]
  },
  {
   "cell_type": "markdown",
   "metadata": {},
   "source": [
    "Select features based on top 30 percentile and print out these features"
   ]
  },
  {
   "cell_type": "code",
   "execution_count": 103,
   "metadata": {},
   "outputs": [
    {
     "name": "stdout",
     "output_type": "stream",
     "text": [
      "Selected features based on top 30 percentile: ['mean radius' 'mean perimeter' 'mean area' 'mean concavity'\n",
      " 'mean concave points' 'worst radius' 'worst perimeter' 'worst area'\n",
      " 'worst concave points']\n"
     ]
    }
   ],
   "source": [
    "from sklearn.feature_selection import f_classif\n",
    "\n",
    "# Select the top 30 percentile features\n",
    "selector = SelectPercentile(score_func=f_classif, percentile=30)\n",
    "selector.fit(features, target)\n",
    "\n",
    "# Get the selected feature names\n",
    "selected_features_percentile = brcn.feature_names[selector.get_support()]\n",
    "\n",
    "print(\"Selected features based on top 30 percentile:\", selected_features_percentile)"
   ]
  },
  {
   "cell_type": "markdown",
   "metadata": {},
   "source": [
    "## Problem 1: Fruits feature engineering\n",
    "Given a dataset containing information about the size and color of fruits, the task is to create new (more useful) features from the existing ones.\n",
    "\n",
    "### Dataset\n",
    "The dataset is a pandas dataframe with two columns:\n",
    "\n",
    "- \"Size\": a continuous variable representing the size of the fruit.\n",
    "- \"Color\": a categorical variable representing the color of the fruit.\n",
    "\n",
    "### Task\n",
    "1) Create a new feature \"Size_Category\" by grouping the \"Size\" column into 3 categories: Small, Medium, and Large. The criteria for grouping the values should be as follows:\n",
    "    - Small: Size < 100\n",
    "    - Medium: 100 <= Size < 200\n",
    "    - Large: Size >= 200\n",
    "2) Create a new feature \"Color_Encoded\" by encoding the \"Color\" column using one-hot encoding.\n",
    "3) Print the first 5 rows of the dataframe to check if the new features have been created successfully.\n",
    "\n",
    "Example output:\n",
    "|Index  | Size  | Color   | Size_Category | Color_Encoded_Red | Color_Encoded_Green | Color_Encoded_Yellow |\n",
    "|-------|-------|---------|---------------|------------------|------------------- |-------------------- |\n",
    "| 0     |150    | Green   | Medium           | 0.0              | 1.0                | 0.0                 |\n",
    "| 1     |250    | Red     | Large           | 1.0              | 0.0                | 0.0                 |\n",
    "| 2     |180    | Yellow  | Medium           | 0.0              | 0.0                | 1.0                 |\n",
    "| 3     |100    | Green   | Medium           | 0.0              | 1.0                | 0.0                 |\n",
    "| 4     |200    | Red     | Large           | 1.0              | 0.0                | 0.0                 |\n",
    "size aan de hand van one hot bij sml  \n",
    "                                 010 \n",
    "\n",
    "\n",
    "Note: use the following code to generate a sample dataframe for the task:\n",
    "```Python\n",
    "import pandas as pd\n",
    "import numpy as np\n",
    "\n",
    "np.random.seed(0)\n",
    "data = {\"Size\": np.random.randint(50, 300, size=(100,)),\"Color\": np.random.choice([\"Red\", \"Green\", \"Yellow\"], size=(100,))}\n",
    "df = pd.DataFrame(data)\n",
    "```"
   ]
  },
  {
   "cell_type": "code",
   "execution_count": 5,
   "metadata": {},
   "outputs": [
    {
     "name": "stdout",
     "output_type": "stream",
     "text": [
      "   Size   Color  Small  Medium  Large  Color_Encoded_Green  Color_Encoded_Red  \\\n",
      "0   222     Red  False   False   True                False               True   \n",
      "1    97  Yellow   True   False  False                False              False   \n",
      "2   167     Red  False    True  False                False               True   \n",
      "3   242     Red  False   False   True                False               True   \n",
      "4   117     Red  False    True  False                False               True   \n",
      "\n",
      "   Color_Encoded_Yellow  \n",
      "0                 False  \n",
      "1                  True  \n",
      "2                 False  \n",
      "3                 False  \n",
      "4                 False  \n"
     ]
    }
   ],
   "source": [
    "import pandas as pd\n",
    "import numpy as np\n",
    "\n",
    "np.random.seed(0)\n",
    "data = {\"Size\": np.random.randint(50, 300, size=(100,)),\"Color\": np.random.choice([\"Red\", \"Green\", \"Yellow\"], size=(100,))}\n",
    "df = pd.DataFrame(data)\n",
    "\n",
    "# 1) Create boolean columns for size categories\n",
    "df['Small'] = df['Size'] < 100\n",
    "df['Medium'] = (df['Size'] >= 100) & (df['Size'] < 200)\n",
    "df['Large'] = df['Size'] >= 200\n",
    "\n",
    "# 2) One-hot encode color with specified column names\n",
    "color_dummies = pd.get_dummies(df['Color'], prefix='Color_Encoded')\n",
    "df = pd.concat([df, color_dummies], axis=1)\n",
    "\n",
    "# 3) Show first 5 rows with new features\n",
    "print(df[['Size', 'Color', 'Small', 'Medium', 'Large'] + \n",
    "      df.filter(like='Color_Encoded').columns.tolist()].head())"
   ]
  },
  {
   "cell_type": "markdown",
   "metadata": {},
   "source": [
    "## Problem 2: Housing dataset feature selection\n",
    "\n",
    "Using the Household.csv dataset:\n",
    "1. Select important features using 2 different feature selection methods of your choice\n",
    "2. Explain how each feature selection method works\n",
    "3. Train linear regression models on each feature subset and compare performance\n",
    "4. Train a lasso regression model and compare with the other models\n",
    "5. Analyse the impact of the alpha parameter on the performance of the lasso regression model. Explain the results. How is feature selection performed in lasso regularization?"
   ]
  },
  {
   "cell_type": "markdown",
   "metadata": {},
   "source": [
    "biassed regressie om bepaalde dingen eruit laten , zodat de rechte beter ligt\n",
    "normaal geizen afstand ten opzichte van de gefitte lijn hebben en je voegt een bias toe \n",
    "hoeveel elke feature \n",
    "alfa 0 : normale regressie \n",
    "alfa oneidig alle features eruit smijten "
   ]
  },
  {
   "cell_type": "markdown",
   "metadata": {},
   "source": []
  },
  {
   "cell_type": "code",
   "execution_count": 4,
   "metadata": {},
   "outputs": [
    {
     "name": "stdout",
     "output_type": "stream",
     "text": [
      "   index     crim    zn  indus  chas    nox     rm   age     dis  rad  tax  \\\n",
      "0      1  0.00632  18.0   2.31     0  0.538  6.575  65.2  4.0900    1  296   \n",
      "1      2  0.02731   0.0   7.07     0  0.469  6.421  78.9  4.9671    2  242   \n",
      "2      3  0.02729   0.0   7.07     0  0.469  7.185  61.1  4.9671    2  242   \n",
      "3      4  0.03237   0.0   2.18     0  0.458  6.998  45.8  6.0622    3  222   \n",
      "4      5  0.06905   0.0   2.18     0  0.458  7.147  54.2  6.0622    3  222   \n",
      "\n",
      "   ptratio   black  lstat  medv  \n",
      "0     15.3  396.90   4.98  24.0  \n",
      "1     17.8  396.90   9.14  21.6  \n",
      "2     17.8  392.83   4.03  34.7  \n",
      "3     18.7  394.63   2.94  33.4  \n",
      "4     18.7  396.90   5.33  36.2  \n",
      "Model Performance Comparison:\n",
      "Pearson: R² = 0.568, RMSE = 5.674\n",
      "RFE: R² = 0.695, RMSE = 4.765\n",
      "Lasso: R² = 0.693, RMSE = 4.780\n"
     ]
    },
    {
     "data": {
      "image/png": "[encoded data removed]",
      "text/plain": [
       "<Figure size 1200x600 with 2 Axes>"
      ]
     },
     "metadata": {},
     "output_type": "display_data"
    }
   ],
   "source": [
    "import pandas as pd\n",
    "import numpy as np\n",
    "from sklearn.model_selection import train_test_split\n",
    "from sklearn.preprocessing import StandardScaler\n",
    "from sklearn.feature_selection import RFE\n",
    "from sklearn.linear_model import LinearRegression, Lasso\n",
    "from sklearn.metrics import r2_score, mean_squared_error\n",
    "import matplotlib.pyplot as plt\n",
    "\n",
    "# Load dataset\n",
    "data = pd.read_csv('Housing.csv')\n",
    "print(data.head())\n",
    "X = data.drop('medv', axis=1)  # Adjust target column name if needed\n",
    "y = data['medv']\n",
    "\n",
    "# Split data\n",
    "X_train, X_test, y_train, y_test = train_test_split(X, y, test_size=0.3, random_state=42)\n",
    "\n",
    "# Scale features\n",
    "scaler = StandardScaler()\n",
    "X_train_scaled = pd.DataFrame(scaler.fit_transform(X_train), columns=X_train.columns)\n",
    "X_test_scaled = pd.DataFrame(scaler.transform(X_test), columns=X_test.columns)\n",
    "\n",
    "# Method 1: Pearson Correlation (top 5 features)\n",
    "correlations = X_train_scaled.corrwith(y_train).abs()\n",
    "selected_pearson = correlations.nlargest(5).index.tolist()\n",
    "\n",
    "# Method 2: RFE (top 5 features)\n",
    "estimator = LinearRegression()\n",
    "rfe = RFE(estimator, n_features_to_select=5)\n",
    "rfe.fit(X_train_scaled, y_train)\n",
    "selected_rfe = X_train_scaled.columns[rfe.support_]\n",
    "\n",
    "# Train models\n",
    "# Model 1: Pearson\n",
    "model_pearson = LinearRegression()\n",
    "model_pearson.fit(X_train_scaled[selected_pearson], y_train)\n",
    "y_pred_pearson = model_pearson.predict(X_test_scaled[selected_pearson])\n",
    "\n",
    "# Model 2: RFE\n",
    "model_rfe = LinearRegression()\n",
    "model_rfe.fit(X_train_scaled[selected_rfe], y_train)\n",
    "y_pred_rfe = model_rfe.predict(X_test_scaled[selected_rfe])\n",
    "\n",
    "# Model 3: Lasso\n",
    "lasso = Lasso(alpha=0.1)\n",
    "lasso.fit(X_train_scaled, y_train)\n",
    "y_pred_lasso = lasso.predict(X_test_scaled)\n",
    "\n",
    "# Compare performance\n",
    "results = {\n",
    "    'Pearson': {\n",
    "        'R²': r2_score(y_test, y_pred_pearson),\n",
    "        'RMSE': np.sqrt(mean_squared_error(y_test, y_pred_pearson))\n",
    "    },\n",
    "    'RFE': {\n",
    "        'R²': r2_score(y_test, y_pred_rfe),\n",
    "        'RMSE': np.sqrt(mean_squared_error(y_test, y_pred_rfe))\n",
    "    },\n",
    "    'Lasso': {\n",
    "        'R²': r2_score(y_test, y_pred_lasso),\n",
    "        'RMSE': np.sqrt(mean_squared_error(y_test, y_pred_lasso))\n",
    "    }\n",
    "}\n",
    "\n",
    "print(\"Model Performance Comparison:\")\n",
    "for method, metrics in results.items():\n",
    "    print(f\"{method}: R² = {metrics['R²']:.3f}, RMSE = {metrics['RMSE']:.3f}\")\n",
    "\n",
    "# Analyze Lasso's alpha\n",
    "alphas = np.logspace(-4, 2, 100)\n",
    "r2_scores = []\n",
    "non_zero_coefs = []\n",
    "\n",
    "for alpha in alphas:\n",
    "    lasso = Lasso(alpha=alpha)\n",
    "    lasso.fit(X_train_scaled, y_train)\n",
    "    y_pred = lasso.predict(X_test_scaled)\n",
    "    r2_scores.append(r2_score(y_test, y_pred))\n",
    "    non_zero_coefs.append(np.sum(lasso.coef_ != 0))\n",
    "\n",
    "# Plotting\n",
    "plt.figure(figsize=(12, 6))\n",
    "plt.subplot(1, 2, 1)\n",
    "plt.semilogx(alphas, r2_scores)\n",
    "plt.xlabel('Alpha')\n",
    "plt.ylabel('R² Score')\n",
    "plt.title('Alpha vs. R² Score')\n",
    "\n",
    "plt.subplot(1, 2, 2)\n",
    "plt.semilogx(alphas, non_zero_coefs)\n",
    "plt.xlabel('Alpha')\n",
    "plt.ylabel('Non-zero Coefficients')\n",
    "plt.title('Alpha vs. Feature Count')\n",
    "plt.tight_layout()\n",
    "plt.show()"
   ]
  }
 ],
 "metadata": {
  "kernelspec": {
   "display_name": "machine_learning",
   "language": "python",
   "name": "python3"
  },
  "language_info": {
   "codemirror_mode": {
    "name": "ipython",
    "version": 3
   },
   "file_extension": ".py",
   "mimetype": "text/x-python",
   "name": "python",
   "nbconvert_exporter": "python",
   "pygments_lexer": "ipython3",
   "version": "3.9.21"
  },
  "toc-autonumbering": false,
  "toc-showcode": false,
  "toc-showmarkdowntxt": false
 },
 "nbformat": 4,
 "nbformat_minor": 4
}
